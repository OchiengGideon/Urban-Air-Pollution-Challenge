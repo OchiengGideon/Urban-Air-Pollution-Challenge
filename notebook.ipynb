{
 "cells": [
  {
   "cell_type": "code",
   "execution_count": 1,
   "id": "43e28538",
   "metadata": {},
   "outputs": [],
   "source": [
    "import pandas as pd\n",
    "import numpy as np\n",
    "import matplotlib.pyplot as plt\n",
    "import seaborn as sns\n",
    "sns.set(style=\"whitegrid\")"
   ]
  },
  {
   "cell_type": "markdown",
   "id": "911e9427",
   "metadata": {},
   "source": [
    "## Data Understanding"
   ]
  },
  {
   "cell_type": "markdown",
   "id": "3e160a5d",
   "metadata": {},
   "source": [
    "**The data comes from three main sources:**\n",
    "\n",
    "1. *Ground-based air quality sensors*. These measure the target variable (PM2.5 particle concentration). In addition to the target column (which is the daily mean concentration) there are also columns for minimum and maximum readings on that day, the variance of the readings and the total number (count) of sensor readings used to compute the target value. This data is only provided for the train set - you must predict the target variable for the test set.\n",
    "2. *The Global Forecast System (GFS) for weather data*. Humidity, temperature and wind speed, which can be used as inputs for your model.\n",
    "3. *The Sentinel 5P satellite*. This satellite monitors various pollutants in the atmosphere. For each pollutant, we queried the offline Level 3 (L3) datasets available in Google Earth Engine (you can read more about the individual products here: https://developers.google.com/earth-engine/datasets/catalog/sentinel-5p). For a given pollutant, for example NO2, we provide all data from the Sentinel 5P dataset for that pollutant. This includes the key measurements like NO2_column_number_density (a measure of NO2 concentration) as well as metadata like the satellite altitude. We recommend that you focus on the key measurements, either the column_number_density or the tropospheric_X_column_number_density (which measures density closer to Earth’s surface)."
   ]
  },
  {
   "cell_type": "code",
   "execution_count": 4,
   "id": "cde287c6",
   "metadata": {},
   "outputs": [],
   "source": [
    "data = pd.read_csv(\"Test.csv\")"
   ]
  },
  {
   "cell_type": "code",
   "execution_count": 7,
   "id": "8a42f62a",
   "metadata": {},
   "outputs": [
    {
     "data": {
      "application/vnd.microsoft.datawrangler.viewer.v0+json": {
       "columns": [
        {
         "name": "index",
         "rawType": "int64",
         "type": "integer"
        },
        {
         "name": "Place_ID X Date",
         "rawType": "object",
         "type": "string"
        },
        {
         "name": "Date",
         "rawType": "object",
         "type": "string"
        },
        {
         "name": "Place_ID",
         "rawType": "object",
         "type": "string"
        },
        {
         "name": "precipitable_water_entire_atmosphere",
         "rawType": "float64",
         "type": "float"
        },
        {
         "name": "relative_humidity_2m_above_ground",
         "rawType": "float64",
         "type": "float"
        },
        {
         "name": "specific_humidity_2m_above_ground",
         "rawType": "float64",
         "type": "float"
        },
        {
         "name": "temperature_2m_above_ground",
         "rawType": "float64",
         "type": "float"
        },
        {
         "name": "u_component_of_wind_10m_above_ground",
         "rawType": "float64",
         "type": "float"
        },
        {
         "name": "v_component_of_wind_10m_above_ground",
         "rawType": "float64",
         "type": "float"
        },
        {
         "name": "L3_NO2_NO2_column_number_density",
         "rawType": "float64",
         "type": "float"
        },
        {
         "name": "L3_NO2_NO2_slant_column_number_density",
         "rawType": "float64",
         "type": "float"
        },
        {
         "name": "L3_NO2_absorbing_aerosol_index",
         "rawType": "float64",
         "type": "float"
        },
        {
         "name": "L3_NO2_cloud_fraction",
         "rawType": "float64",
         "type": "float"
        },
        {
         "name": "L3_NO2_sensor_altitude",
         "rawType": "float64",
         "type": "float"
        },
        {
         "name": "L3_NO2_sensor_azimuth_angle",
         "rawType": "float64",
         "type": "float"
        },
        {
         "name": "L3_NO2_sensor_zenith_angle",
         "rawType": "float64",
         "type": "float"
        },
        {
         "name": "L3_NO2_solar_azimuth_angle",
         "rawType": "float64",
         "type": "float"
        },
        {
         "name": "L3_NO2_solar_zenith_angle",
         "rawType": "float64",
         "type": "float"
        },
        {
         "name": "L3_NO2_stratospheric_NO2_column_number_density",
         "rawType": "float64",
         "type": "float"
        },
        {
         "name": "L3_NO2_tropopause_pressure",
         "rawType": "float64",
         "type": "float"
        },
        {
         "name": "L3_NO2_tropospheric_NO2_column_number_density",
         "rawType": "float64",
         "type": "float"
        },
        {
         "name": "L3_O3_O3_column_number_density",
         "rawType": "float64",
         "type": "float"
        },
        {
         "name": "L3_O3_O3_effective_temperature",
         "rawType": "float64",
         "type": "float"
        },
        {
         "name": "L3_O3_cloud_fraction",
         "rawType": "float64",
         "type": "float"
        },
        {
         "name": "L3_O3_sensor_azimuth_angle",
         "rawType": "float64",
         "type": "float"
        },
        {
         "name": "L3_O3_sensor_zenith_angle",
         "rawType": "float64",
         "type": "float"
        },
        {
         "name": "L3_O3_solar_azimuth_angle",
         "rawType": "float64",
         "type": "float"
        },
        {
         "name": "L3_O3_solar_zenith_angle",
         "rawType": "float64",
         "type": "float"
        },
        {
         "name": "L3_CO_CO_column_number_density",
         "rawType": "float64",
         "type": "float"
        },
        {
         "name": "L3_CO_H2O_column_number_density",
         "rawType": "float64",
         "type": "float"
        },
        {
         "name": "L3_CO_cloud_height",
         "rawType": "float64",
         "type": "float"
        },
        {
         "name": "L3_CO_sensor_altitude",
         "rawType": "float64",
         "type": "float"
        },
        {
         "name": "L3_CO_sensor_azimuth_angle",
         "rawType": "float64",
         "type": "float"
        },
        {
         "name": "L3_CO_sensor_zenith_angle",
         "rawType": "float64",
         "type": "float"
        },
        {
         "name": "L3_CO_solar_azimuth_angle",
         "rawType": "float64",
         "type": "float"
        },
        {
         "name": "L3_CO_solar_zenith_angle",
         "rawType": "float64",
         "type": "float"
        },
        {
         "name": "L3_HCHO_HCHO_slant_column_number_density",
         "rawType": "float64",
         "type": "float"
        },
        {
         "name": "L3_HCHO_cloud_fraction",
         "rawType": "float64",
         "type": "float"
        },
        {
         "name": "L3_HCHO_sensor_azimuth_angle",
         "rawType": "float64",
         "type": "float"
        },
        {
         "name": "L3_HCHO_sensor_zenith_angle",
         "rawType": "float64",
         "type": "float"
        },
        {
         "name": "L3_HCHO_solar_azimuth_angle",
         "rawType": "float64",
         "type": "float"
        },
        {
         "name": "L3_HCHO_solar_zenith_angle",
         "rawType": "float64",
         "type": "float"
        },
        {
         "name": "L3_HCHO_tropospheric_HCHO_column_number_density",
         "rawType": "float64",
         "type": "float"
        },
        {
         "name": "L3_HCHO_tropospheric_HCHO_column_number_density_amf",
         "rawType": "float64",
         "type": "float"
        },
        {
         "name": "L3_CLOUD_cloud_base_height",
         "rawType": "float64",
         "type": "float"
        },
        {
         "name": "L3_CLOUD_cloud_base_pressure",
         "rawType": "float64",
         "type": "float"
        },
        {
         "name": "L3_CLOUD_cloud_fraction",
         "rawType": "float64",
         "type": "float"
        },
        {
         "name": "L3_CLOUD_cloud_optical_depth",
         "rawType": "float64",
         "type": "float"
        },
        {
         "name": "L3_CLOUD_cloud_top_height",
         "rawType": "float64",
         "type": "float"
        },
        {
         "name": "L3_CLOUD_cloud_top_pressure",
         "rawType": "float64",
         "type": "float"
        },
        {
         "name": "L3_CLOUD_sensor_azimuth_angle",
         "rawType": "float64",
         "type": "float"
        },
        {
         "name": "L3_CLOUD_sensor_zenith_angle",
         "rawType": "float64",
         "type": "float"
        },
        {
         "name": "L3_CLOUD_solar_azimuth_angle",
         "rawType": "float64",
         "type": "float"
        },
        {
         "name": "L3_CLOUD_solar_zenith_angle",
         "rawType": "float64",
         "type": "float"
        },
        {
         "name": "L3_CLOUD_surface_albedo",
         "rawType": "float64",
         "type": "float"
        },
        {
         "name": "L3_AER_AI_absorbing_aerosol_index",
         "rawType": "float64",
         "type": "float"
        },
        {
         "name": "L3_AER_AI_sensor_altitude",
         "rawType": "float64",
         "type": "float"
        },
        {
         "name": "L3_AER_AI_sensor_azimuth_angle",
         "rawType": "float64",
         "type": "float"
        },
        {
         "name": "L3_AER_AI_sensor_zenith_angle",
         "rawType": "float64",
         "type": "float"
        },
        {
         "name": "L3_AER_AI_solar_azimuth_angle",
         "rawType": "float64",
         "type": "float"
        },
        {
         "name": "L3_AER_AI_solar_zenith_angle",
         "rawType": "float64",
         "type": "float"
        },
        {
         "name": "L3_SO2_SO2_column_number_density",
         "rawType": "float64",
         "type": "float"
        },
        {
         "name": "L3_SO2_SO2_column_number_density_amf",
         "rawType": "float64",
         "type": "float"
        },
        {
         "name": "L3_SO2_SO2_slant_column_number_density",
         "rawType": "float64",
         "type": "float"
        },
        {
         "name": "L3_SO2_absorbing_aerosol_index",
         "rawType": "float64",
         "type": "float"
        },
        {
         "name": "L3_SO2_cloud_fraction",
         "rawType": "float64",
         "type": "float"
        },
        {
         "name": "L3_SO2_sensor_azimuth_angle",
         "rawType": "float64",
         "type": "float"
        },
        {
         "name": "L3_SO2_sensor_zenith_angle",
         "rawType": "float64",
         "type": "float"
        },
        {
         "name": "L3_SO2_solar_azimuth_angle",
         "rawType": "float64",
         "type": "float"
        },
        {
         "name": "L3_SO2_solar_zenith_angle",
         "rawType": "float64",
         "type": "float"
        },
        {
         "name": "L3_CH4_CH4_column_volume_mixing_ratio_dry_air",
         "rawType": "float64",
         "type": "float"
        },
        {
         "name": "L3_CH4_aerosol_height",
         "rawType": "float64",
         "type": "float"
        },
        {
         "name": "L3_CH4_aerosol_optical_depth",
         "rawType": "float64",
         "type": "float"
        },
        {
         "name": "L3_CH4_sensor_azimuth_angle",
         "rawType": "float64",
         "type": "float"
        },
        {
         "name": "L3_CH4_sensor_zenith_angle",
         "rawType": "float64",
         "type": "float"
        },
        {
         "name": "L3_CH4_solar_azimuth_angle",
         "rawType": "float64",
         "type": "float"
        },
        {
         "name": "L3_CH4_solar_zenith_angle",
         "rawType": "float64",
         "type": "float"
        }
       ],
       "ref": "781c36f6-f622-4dda-8a7f-51b2f32b0cab",
       "rows": [
        [
         "0",
         "0OS9LVX X 2020-01-02",
         "2020-01-02",
         "0OS9LVX",
         "11.600000381469728",
         "30.20000076293945",
         "0.0040899999439716",
         "14.656823730468776",
         "3.956376791000366",
         "0.7126049399375916",
         "5.338188168984376e-05",
         "0.0001081871867687",
         "0.4661706187204017",
         "0.0107517775887737",
         "835670.4927404013",
         "68.09936729494977",
         "1.4456579910613174",
         "-95.98498421474986",
         "22.942019214906725",
         "4.59064334150801e-05",
         "6156.07421875",
         "7.4754488159281586e-06",
         "0.1133104460359782",
         "227.46753921880364",
         "0.032070798932945",
         "68.09936729494977",
         "1.4456579910613174",
         "-95.98498421474986",
         "22.942019214906725",
         "0.017953142027979",
         "841.1428685843196",
         "155.98298148206956",
         "835625.7853369236",
         "32.70970776508936",
         "1.8981122996223057",
         "-95.98701542027666",
         "22.95014997128768",
         "7.301102108439075e-05",
         "0.032070798932945",
         "68.09936729494977",
         "1.4456579910613174",
         "-95.98498421474986",
         "22.942019214906725",
         "8.82569377545137e-05",
         "1.4940388489214464",
         "2592.634167449822",
         "74028.42922780795",
         "0.0322684172423575",
         "6.317522583343568",
         "2593.1374334732477",
         "74023.93072196668",
         "68.09936729494977",
         "1.4456579910613174",
         "-95.98498421474986",
         "22.942019214906725",
         "0.299053173921504",
         "0.4661730554899418",
         "835670.4927404013",
         "68.09936729494977",
         "1.4456579910613174",
         "-95.98498421474986",
         "22.942019214906725",
         "0.0002207098172627",
         "0.7844363733680465",
         "0.0001835919095804",
         "-0.1404578668042355",
         "0.032070798932945",
         "68.09936729494977",
         "1.4456579910613174",
         "-95.98498421474986",
         "22.942019214906725",
         null,
         null,
         null,
         null,
         null,
         null,
         null
        ],
        [
         "1",
         "0OS9LVX X 2020-01-03",
         "2020-01-03",
         "0OS9LVX",
         "18.30000114440918",
         "42.900001525878906",
         "0.0059499996714293",
         "15.026544189453151",
         "4.2304296493530265",
         "0.6618920564651489",
         "5.044760833786027e-05",
         "0.000109096198614",
         "-0.2136590404334026",
         "0.0283068859288919",
         "835281.8827573186",
         "75.93684406174438",
         "34.63893331817223",
         "-95.01797638903416",
         "18.53952411990452",
         "4.507088846042641e-05",
         "7311.869140625",
         "5.300358300498081e-06",
         "0.1103970680181405",
         "227.7887131734641",
         "0.044783526175527",
         "75.93684464939597",
         "34.639165323566324",
         "-95.01759630863846",
         "18.539491281698",
         "0.0195755841849036",
         "1187.570319535292",
         "922.3858325845354",
         "835225.2783323029",
         "73.80814315113872",
         "34.72086943121657",
         "-95.01709519887136",
         "18.54855133239698",
         "4.839346440047467e-05",
         "0.0408034268139147",
         "75.93681337480676",
         "34.641757824964984",
         "-95.01490763862076",
         "18.539115540438072",
         "7.446203860334291e-05",
         "1.5344854265716248",
         "7334.601101860972",
         "48466.65330016376",
         "0.046211273929992",
         "8.308433043400445",
         "7902.937546164508",
         "46345.61303056218",
         "75.93684464939597",
         "34.639165323566324",
         "-95.01759630863846",
         "18.539491281698",
         "0.2903967250823146",
         "-0.2136568085376808",
         "835281.8827573186",
         "75.93684406174438",
         "34.63893331817223",
         "-95.01797638903416",
         "18.53952411990452",
         "3.3869418701482384e-05",
         "0.678988347238539",
         "1.3535070105492942e-05",
         "-0.8427127659941759",
         "0.0408034268139147",
         "75.93681337480676",
         "34.641757824964984",
         "-95.01490763862076",
         "18.539115540438072",
         null,
         null,
         null,
         null,
         null,
         null,
         null
        ],
        [
         "2",
         "0OS9LVX X 2020-01-04",
         "2020-01-04",
         "0OS9LVX",
         "17.600000381469727",
         "41.29999923706055",
         "0.005899999756366",
         "15.511041259765651",
         "5.2457275390625",
         "1.6405590772628784",
         "5.035382905287112e-05",
         "0.0001344593460676",
         "-0.2542504688153159",
         "0.0103738168032933",
         "834839.0507810583",
         "75.55244489410154",
         "55.87227582199906",
         "-94.01541774525236",
         "14.1408199285528",
         "4.405627741916344e-05",
         "6156.07421875",
         "6.2975514548475445e-06",
         "0.1125015422409163",
         "229.2356314067364",
         "0.0071129708417865",
         "75.55244489410154",
         "55.87227582199906",
         "-94.01541774525236",
         "14.1408199285528",
         "0.0187356083766239",
         "944.3414134298572",
         "1281.8921149073133",
         "834751.9872676621",
         "73.86167992474853",
         "56.01983754990789",
         "-94.0014355605577",
         "14.143971606011291",
         "6.1129905018693225e-06",
         "0.0071129708417865",
         "75.55244489410154",
         "55.87227582199906",
         "-94.01541774525236",
         "14.1408199285528",
         "4.209377542009092e-05",
         "1.6804576891528649",
         "5188.524088166714",
         "61477.291928682615",
         "0.0078487035646375",
         "6.415457537494486",
         "5797.742160928925",
         "57757.84221772966",
         "75.55244489410154",
         "55.87227582199906",
         "-94.01541774525236",
         "14.1408199285528",
         "0.2792768078615231",
         "-0.2542503444352001",
         "834839.0507810583",
         "75.55244489410154",
         "55.87227582199906",
         "-94.01541774525236",
         "14.1408199285528",
         "0.0001839345955373",
         "0.6677681409500926",
         "0.0001219163022033",
         "-0.7167696248181149",
         "0.0071129708417865",
         "75.55244489410154",
         "55.87227582199906",
         "-94.01541774525236",
         "14.1408199285528",
         null,
         null,
         null,
         null,
         null,
         null,
         null
        ],
        [
         "3",
         "0OS9LVX X 2020-01-05",
         "2020-01-05",
         "0OS9LVX",
         "15.011947631835938",
         "53.10000228881836",
         "0.0070899999700486",
         "14.441857910156276",
         "5.454001426696777",
         "-0.1905322223901748",
         "5.4991531568209584e-05",
         "0.0001546277378741",
         "-0.2684902553545826",
         "0.0887949616315709",
         "836269.8339120748",
         "-102.2850906178478",
         "59.174917241719925",
         "-97.24804661397978",
         "32.73074671553062",
         "4.292245295576303e-05",
         "6156.07421875",
         "1.2069078907482584e-05",
         "0.1133117319097395",
         "228.38370467612668",
         "0.0620760209047897",
         "-102.28512521298371",
         "59.17418799331921",
         "-97.24760245518036",
         "32.73055322226614",
         "0.0183043093972084",
         "873.8503577425029",
         "895.1440005227554",
         "836168.5697136066",
         "-100.65205744749623",
         "59.24649904956266",
         "-97.24943217456524",
         "32.74128901412211",
         "-2.517158306457115e-05",
         "0.0620760209047897",
         "-102.28512521298371",
         "59.17418799331921",
         "-97.24760245518036",
         "32.73055322226614",
         "1.266417746439626e-05",
         "1.653101447015771",
         "2601.2823621234124",
         "74707.12839829603",
         "0.0614107045861516",
         "6.446503859853526",
         "2629.112961594737",
         "74535.28618499679",
         "-102.28512521298371",
         "59.17418799331921",
         "-97.24760245518036",
         "32.73055322226614",
         "0.3590607269307426",
         "-0.2684913041470361",
         "836269.8339120748",
         "-102.2850906178478",
         "59.174917241719925",
         "-97.24804661397978",
         "32.73074671553062",
         "0.0002008748270702",
         "0.6967723439101823",
         "0.0001328753630427",
         "-0.7301035564361142",
         "0.0620760209047897",
         "-102.28512521298371",
         "59.17418799331921",
         "-97.24760245518036",
         "32.73055322226614",
         null,
         null,
         null,
         null,
         null,
         null,
         null
        ],
        [
         "4",
         "0OS9LVX X 2020-01-06",
         "2020-01-06",
         "0OS9LVX",
         "9.699999809265137",
         "71.5999984741211",
         "0.0080800000578165",
         "11.896295166015651",
         "3.511786937713623",
         "-0.2794409096240997",
         "5.5080281472881455e-05",
         "0.0001308538691508",
         "0.4607203983049104",
         "0.0411968694697218",
         "836043.1110088626",
         "-102.133960034696",
         "40.9258727065776",
         "-96.05723647560671",
         "28.320528456250116",
         "4.699676809912423e-05",
         "6156.07421875",
         "8.085550979404382e-06",
         "0.1145918023265783",
         "229.49021795857288",
         "0.0427768146140954",
         "-102.13395749852704",
         "40.92587269524417",
         "-96.05726532294844",
         "28.320526862644428",
         "0.0186660608791241",
         "666.8091446182276",
         "1.0",
         "835978.2378276308",
         "-100.25227947905717",
         "41.00403643126759",
         "-96.05990868616416",
         "28.332549643266",
         "-9.03713868311818e-05",
         "0.0420554020968044",
         "-102.13393011122496",
         "40.92580263342351",
         "-96.05757759277164",
         "28.320496350946357",
         "-2.737301019754713e-05",
         "1.4264665508826817",
         "2557.1966962372658",
         "74589.27671653482",
         "0.0421683319427763",
         "6.874006457548338",
         "2571.2933077484204",
         "74483.68030982502",
         "-102.13395749852704",
         "40.92587269524417",
         "-96.05726532294844",
         "28.320526862644428",
         "0.3314679424689037",
         "0.4607200627520451",
         "836043.1110088626",
         "-102.133960034696",
         "40.9258727065776",
         "-96.05723647560671",
         "28.320528456250116",
         "9.338974639700338e-05",
         "0.6773054240407848",
         "6.526173112941108e-05",
         "-0.1083527476068545",
         "0.0427768146140954",
         "-102.13395749852704",
         "40.92587269524417",
         "-96.05726532294844",
         "28.320526862644428",
         "1831.2615966796875",
         "3229.11865234375",
         "0.0310680530965328",
         "-100.2783432006836",
         "41.84708023071289",
         "-95.9107437133789",
         "28.498788833618164"
        ]
       ],
       "shape": {
        "columns": 77,
        "rows": 5
       }
      },
      "text/html": [
       "<div>\n",
       "<style scoped>\n",
       "    .dataframe tbody tr th:only-of-type {\n",
       "        vertical-align: middle;\n",
       "    }\n",
       "\n",
       "    .dataframe tbody tr th {\n",
       "        vertical-align: top;\n",
       "    }\n",
       "\n",
       "    .dataframe thead th {\n",
       "        text-align: right;\n",
       "    }\n",
       "</style>\n",
       "<table border=\"1\" class=\"dataframe\">\n",
       "  <thead>\n",
       "    <tr style=\"text-align: right;\">\n",
       "      <th></th>\n",
       "      <th>Place_ID X Date</th>\n",
       "      <th>Date</th>\n",
       "      <th>Place_ID</th>\n",
       "      <th>precipitable_water_entire_atmosphere</th>\n",
       "      <th>relative_humidity_2m_above_ground</th>\n",
       "      <th>specific_humidity_2m_above_ground</th>\n",
       "      <th>temperature_2m_above_ground</th>\n",
       "      <th>u_component_of_wind_10m_above_ground</th>\n",
       "      <th>v_component_of_wind_10m_above_ground</th>\n",
       "      <th>L3_NO2_NO2_column_number_density</th>\n",
       "      <th>...</th>\n",
       "      <th>L3_SO2_sensor_zenith_angle</th>\n",
       "      <th>L3_SO2_solar_azimuth_angle</th>\n",
       "      <th>L3_SO2_solar_zenith_angle</th>\n",
       "      <th>L3_CH4_CH4_column_volume_mixing_ratio_dry_air</th>\n",
       "      <th>L3_CH4_aerosol_height</th>\n",
       "      <th>L3_CH4_aerosol_optical_depth</th>\n",
       "      <th>L3_CH4_sensor_azimuth_angle</th>\n",
       "      <th>L3_CH4_sensor_zenith_angle</th>\n",
       "      <th>L3_CH4_solar_azimuth_angle</th>\n",
       "      <th>L3_CH4_solar_zenith_angle</th>\n",
       "    </tr>\n",
       "  </thead>\n",
       "  <tbody>\n",
       "    <tr>\n",
       "      <th>0</th>\n",
       "      <td>0OS9LVX X 2020-01-02</td>\n",
       "      <td>2020-01-02</td>\n",
       "      <td>0OS9LVX</td>\n",
       "      <td>11.600000</td>\n",
       "      <td>30.200001</td>\n",
       "      <td>0.00409</td>\n",
       "      <td>14.656824</td>\n",
       "      <td>3.956377</td>\n",
       "      <td>0.712605</td>\n",
       "      <td>0.000053</td>\n",
       "      <td>...</td>\n",
       "      <td>1.445658</td>\n",
       "      <td>-95.984984</td>\n",
       "      <td>22.942019</td>\n",
       "      <td>NaN</td>\n",
       "      <td>NaN</td>\n",
       "      <td>NaN</td>\n",
       "      <td>NaN</td>\n",
       "      <td>NaN</td>\n",
       "      <td>NaN</td>\n",
       "      <td>NaN</td>\n",
       "    </tr>\n",
       "    <tr>\n",
       "      <th>1</th>\n",
       "      <td>0OS9LVX X 2020-01-03</td>\n",
       "      <td>2020-01-03</td>\n",
       "      <td>0OS9LVX</td>\n",
       "      <td>18.300001</td>\n",
       "      <td>42.900002</td>\n",
       "      <td>0.00595</td>\n",
       "      <td>15.026544</td>\n",
       "      <td>4.230430</td>\n",
       "      <td>0.661892</td>\n",
       "      <td>0.000050</td>\n",
       "      <td>...</td>\n",
       "      <td>34.641758</td>\n",
       "      <td>-95.014908</td>\n",
       "      <td>18.539116</td>\n",
       "      <td>NaN</td>\n",
       "      <td>NaN</td>\n",
       "      <td>NaN</td>\n",
       "      <td>NaN</td>\n",
       "      <td>NaN</td>\n",
       "      <td>NaN</td>\n",
       "      <td>NaN</td>\n",
       "    </tr>\n",
       "    <tr>\n",
       "      <th>2</th>\n",
       "      <td>0OS9LVX X 2020-01-04</td>\n",
       "      <td>2020-01-04</td>\n",
       "      <td>0OS9LVX</td>\n",
       "      <td>17.600000</td>\n",
       "      <td>41.299999</td>\n",
       "      <td>0.00590</td>\n",
       "      <td>15.511041</td>\n",
       "      <td>5.245728</td>\n",
       "      <td>1.640559</td>\n",
       "      <td>0.000050</td>\n",
       "      <td>...</td>\n",
       "      <td>55.872276</td>\n",
       "      <td>-94.015418</td>\n",
       "      <td>14.140820</td>\n",
       "      <td>NaN</td>\n",
       "      <td>NaN</td>\n",
       "      <td>NaN</td>\n",
       "      <td>NaN</td>\n",
       "      <td>NaN</td>\n",
       "      <td>NaN</td>\n",
       "      <td>NaN</td>\n",
       "    </tr>\n",
       "    <tr>\n",
       "      <th>3</th>\n",
       "      <td>0OS9LVX X 2020-01-05</td>\n",
       "      <td>2020-01-05</td>\n",
       "      <td>0OS9LVX</td>\n",
       "      <td>15.011948</td>\n",
       "      <td>53.100002</td>\n",
       "      <td>0.00709</td>\n",
       "      <td>14.441858</td>\n",
       "      <td>5.454001</td>\n",
       "      <td>-0.190532</td>\n",
       "      <td>0.000055</td>\n",
       "      <td>...</td>\n",
       "      <td>59.174188</td>\n",
       "      <td>-97.247602</td>\n",
       "      <td>32.730553</td>\n",
       "      <td>NaN</td>\n",
       "      <td>NaN</td>\n",
       "      <td>NaN</td>\n",
       "      <td>NaN</td>\n",
       "      <td>NaN</td>\n",
       "      <td>NaN</td>\n",
       "      <td>NaN</td>\n",
       "    </tr>\n",
       "    <tr>\n",
       "      <th>4</th>\n",
       "      <td>0OS9LVX X 2020-01-06</td>\n",
       "      <td>2020-01-06</td>\n",
       "      <td>0OS9LVX</td>\n",
       "      <td>9.700000</td>\n",
       "      <td>71.599998</td>\n",
       "      <td>0.00808</td>\n",
       "      <td>11.896295</td>\n",
       "      <td>3.511787</td>\n",
       "      <td>-0.279441</td>\n",
       "      <td>0.000055</td>\n",
       "      <td>...</td>\n",
       "      <td>40.925873</td>\n",
       "      <td>-96.057265</td>\n",
       "      <td>28.320527</td>\n",
       "      <td>1831.261597</td>\n",
       "      <td>3229.118652</td>\n",
       "      <td>0.031068</td>\n",
       "      <td>-100.278343</td>\n",
       "      <td>41.84708</td>\n",
       "      <td>-95.910744</td>\n",
       "      <td>28.498789</td>\n",
       "    </tr>\n",
       "  </tbody>\n",
       "</table>\n",
       "<p>5 rows × 77 columns</p>\n",
       "</div>"
      ],
      "text/plain": [
       "        Place_ID X Date        Date Place_ID  \\\n",
       "0  0OS9LVX X 2020-01-02  2020-01-02  0OS9LVX   \n",
       "1  0OS9LVX X 2020-01-03  2020-01-03  0OS9LVX   \n",
       "2  0OS9LVX X 2020-01-04  2020-01-04  0OS9LVX   \n",
       "3  0OS9LVX X 2020-01-05  2020-01-05  0OS9LVX   \n",
       "4  0OS9LVX X 2020-01-06  2020-01-06  0OS9LVX   \n",
       "\n",
       "   precipitable_water_entire_atmosphere  relative_humidity_2m_above_ground  \\\n",
       "0                             11.600000                          30.200001   \n",
       "1                             18.300001                          42.900002   \n",
       "2                             17.600000                          41.299999   \n",
       "3                             15.011948                          53.100002   \n",
       "4                              9.700000                          71.599998   \n",
       "\n",
       "   specific_humidity_2m_above_ground  temperature_2m_above_ground  \\\n",
       "0                            0.00409                    14.656824   \n",
       "1                            0.00595                    15.026544   \n",
       "2                            0.00590                    15.511041   \n",
       "3                            0.00709                    14.441858   \n",
       "4                            0.00808                    11.896295   \n",
       "\n",
       "   u_component_of_wind_10m_above_ground  v_component_of_wind_10m_above_ground  \\\n",
       "0                              3.956377                              0.712605   \n",
       "1                              4.230430                              0.661892   \n",
       "2                              5.245728                              1.640559   \n",
       "3                              5.454001                             -0.190532   \n",
       "4                              3.511787                             -0.279441   \n",
       "\n",
       "   L3_NO2_NO2_column_number_density  ...  L3_SO2_sensor_zenith_angle  \\\n",
       "0                          0.000053  ...                    1.445658   \n",
       "1                          0.000050  ...                   34.641758   \n",
       "2                          0.000050  ...                   55.872276   \n",
       "3                          0.000055  ...                   59.174188   \n",
       "4                          0.000055  ...                   40.925873   \n",
       "\n",
       "   L3_SO2_solar_azimuth_angle  L3_SO2_solar_zenith_angle  \\\n",
       "0                  -95.984984                  22.942019   \n",
       "1                  -95.014908                  18.539116   \n",
       "2                  -94.015418                  14.140820   \n",
       "3                  -97.247602                  32.730553   \n",
       "4                  -96.057265                  28.320527   \n",
       "\n",
       "   L3_CH4_CH4_column_volume_mixing_ratio_dry_air  L3_CH4_aerosol_height  \\\n",
       "0                                            NaN                    NaN   \n",
       "1                                            NaN                    NaN   \n",
       "2                                            NaN                    NaN   \n",
       "3                                            NaN                    NaN   \n",
       "4                                    1831.261597            3229.118652   \n",
       "\n",
       "   L3_CH4_aerosol_optical_depth  L3_CH4_sensor_azimuth_angle  \\\n",
       "0                           NaN                          NaN   \n",
       "1                           NaN                          NaN   \n",
       "2                           NaN                          NaN   \n",
       "3                           NaN                          NaN   \n",
       "4                      0.031068                  -100.278343   \n",
       "\n",
       "   L3_CH4_sensor_zenith_angle  L3_CH4_solar_azimuth_angle  \\\n",
       "0                         NaN                         NaN   \n",
       "1                         NaN                         NaN   \n",
       "2                         NaN                         NaN   \n",
       "3                         NaN                         NaN   \n",
       "4                    41.84708                  -95.910744   \n",
       "\n",
       "   L3_CH4_solar_zenith_angle  \n",
       "0                        NaN  \n",
       "1                        NaN  \n",
       "2                        NaN  \n",
       "3                        NaN  \n",
       "4                  28.498789  \n",
       "\n",
       "[5 rows x 77 columns]"
      ]
     },
     "execution_count": 7,
     "metadata": {},
     "output_type": "execute_result"
    }
   ],
   "source": [
    "data.head()"
   ]
  },
  {
   "cell_type": "code",
   "execution_count": 5,
   "id": "0de1c30d",
   "metadata": {},
   "outputs": [
    {
     "name": "stdout",
     "output_type": "stream",
     "text": [
      "<class 'pandas.core.frame.DataFrame'>\n",
      "RangeIndex: 16136 entries, 0 to 16135\n",
      "Data columns (total 77 columns):\n",
      " #   Column                                               Non-Null Count  Dtype  \n",
      "---  ------                                               --------------  -----  \n",
      " 0   Place_ID X Date                                      16136 non-null  object \n",
      " 1   Date                                                 16136 non-null  object \n",
      " 2   Place_ID                                             16136 non-null  object \n",
      " 3   precipitable_water_entire_atmosphere                 16136 non-null  float64\n",
      " 4   relative_humidity_2m_above_ground                    16136 non-null  float64\n",
      " 5   specific_humidity_2m_above_ground                    16136 non-null  float64\n",
      " 6   temperature_2m_above_ground                          16136 non-null  float64\n",
      " 7   u_component_of_wind_10m_above_ground                 16136 non-null  float64\n",
      " 8   v_component_of_wind_10m_above_ground                 16136 non-null  float64\n",
      " 9   L3_NO2_NO2_column_number_density                     14809 non-null  float64\n",
      " 10  L3_NO2_NO2_slant_column_number_density               14809 non-null  float64\n",
      " 11  L3_NO2_absorbing_aerosol_index                       14809 non-null  float64\n",
      " 12  L3_NO2_cloud_fraction                                14809 non-null  float64\n",
      " 13  L3_NO2_sensor_altitude                               14809 non-null  float64\n",
      " 14  L3_NO2_sensor_azimuth_angle                          14809 non-null  float64\n",
      " 15  L3_NO2_sensor_zenith_angle                           14809 non-null  float64\n",
      " 16  L3_NO2_solar_azimuth_angle                           14809 non-null  float64\n",
      " 17  L3_NO2_solar_zenith_angle                            14809 non-null  float64\n",
      " 18  L3_NO2_stratospheric_NO2_column_number_density       14809 non-null  float64\n",
      " 19  L3_NO2_tropopause_pressure                           14809 non-null  float64\n",
      " 20  L3_NO2_tropospheric_NO2_column_number_density        11163 non-null  float64\n",
      " 21  L3_O3_O3_column_number_density                       15922 non-null  float64\n",
      " 22  L3_O3_O3_effective_temperature                       15922 non-null  float64\n",
      " 23  L3_O3_cloud_fraction                                 15922 non-null  float64\n",
      " 24  L3_O3_sensor_azimuth_angle                           15922 non-null  float64\n",
      " 25  L3_O3_sensor_zenith_angle                            15922 non-null  float64\n",
      " 26  L3_O3_solar_azimuth_angle                            15922 non-null  float64\n",
      " 27  L3_O3_solar_zenith_angle                             15922 non-null  float64\n",
      " 28  L3_CO_CO_column_number_density                       13135 non-null  float64\n",
      " 29  L3_CO_H2O_column_number_density                      13135 non-null  float64\n",
      " 30  L3_CO_cloud_height                                   13135 non-null  float64\n",
      " 31  L3_CO_sensor_altitude                                13135 non-null  float64\n",
      " 32  L3_CO_sensor_azimuth_angle                           13135 non-null  float64\n",
      " 33  L3_CO_sensor_zenith_angle                            13135 non-null  float64\n",
      " 34  L3_CO_solar_azimuth_angle                            13135 non-null  float64\n",
      " 35  L3_CO_solar_zenith_angle                             13135 non-null  float64\n",
      " 36  L3_HCHO_HCHO_slant_column_number_density             11916 non-null  float64\n",
      " 37  L3_HCHO_cloud_fraction                               11916 non-null  float64\n",
      " 38  L3_HCHO_sensor_azimuth_angle                         11916 non-null  float64\n",
      " 39  L3_HCHO_sensor_zenith_angle                          11916 non-null  float64\n",
      " 40  L3_HCHO_solar_azimuth_angle                          11916 non-null  float64\n",
      " 41  L3_HCHO_solar_zenith_angle                           11916 non-null  float64\n",
      " 42  L3_HCHO_tropospheric_HCHO_column_number_density      11916 non-null  float64\n",
      " 43  L3_HCHO_tropospheric_HCHO_column_number_density_amf  11916 non-null  float64\n",
      " 44  L3_CLOUD_cloud_base_height                           15186 non-null  float64\n",
      " 45  L3_CLOUD_cloud_base_pressure                         15186 non-null  float64\n",
      " 46  L3_CLOUD_cloud_fraction                              15874 non-null  float64\n",
      " 47  L3_CLOUD_cloud_optical_depth                         15186 non-null  float64\n",
      " 48  L3_CLOUD_cloud_top_height                            15186 non-null  float64\n",
      " 49  L3_CLOUD_cloud_top_pressure                          15186 non-null  float64\n",
      " 50  L3_CLOUD_sensor_azimuth_angle                        15874 non-null  float64\n",
      " 51  L3_CLOUD_sensor_zenith_angle                         15874 non-null  float64\n",
      " 52  L3_CLOUD_solar_azimuth_angle                         15874 non-null  float64\n",
      " 53  L3_CLOUD_solar_zenith_angle                          15874 non-null  float64\n",
      " 54  L3_CLOUD_surface_albedo                              15186 non-null  float64\n",
      " 55  L3_AER_AI_absorbing_aerosol_index                    16043 non-null  float64\n",
      " 56  L3_AER_AI_sensor_altitude                            16043 non-null  float64\n",
      " 57  L3_AER_AI_sensor_azimuth_angle                       16043 non-null  float64\n",
      " 58  L3_AER_AI_sensor_zenith_angle                        16043 non-null  float64\n",
      " 59  L3_AER_AI_solar_azimuth_angle                        16043 non-null  float64\n",
      " 60  L3_AER_AI_solar_zenith_angle                         16043 non-null  float64\n",
      " 61  L3_SO2_SO2_column_number_density                     11963 non-null  float64\n",
      " 62  L3_SO2_SO2_column_number_density_amf                 11963 non-null  float64\n",
      " 63  L3_SO2_SO2_slant_column_number_density               11963 non-null  float64\n",
      " 64  L3_SO2_absorbing_aerosol_index                       11934 non-null  float64\n",
      " 65  L3_SO2_cloud_fraction                                11963 non-null  float64\n",
      " 66  L3_SO2_sensor_azimuth_angle                          11963 non-null  float64\n",
      " 67  L3_SO2_sensor_zenith_angle                           11963 non-null  float64\n",
      " 68  L3_SO2_solar_azimuth_angle                           11963 non-null  float64\n",
      " 69  L3_SO2_solar_zenith_angle                            11963 non-null  float64\n",
      " 70  L3_CH4_CH4_column_volume_mixing_ratio_dry_air        3115 non-null   float64\n",
      " 71  L3_CH4_aerosol_height                                3115 non-null   float64\n",
      " 72  L3_CH4_aerosol_optical_depth                         3115 non-null   float64\n",
      " 73  L3_CH4_sensor_azimuth_angle                          3115 non-null   float64\n",
      " 74  L3_CH4_sensor_zenith_angle                           3115 non-null   float64\n",
      " 75  L3_CH4_solar_azimuth_angle                           3115 non-null   float64\n",
      " 76  L3_CH4_solar_zenith_angle                            3115 non-null   float64\n",
      "dtypes: float64(74), object(3)\n",
      "memory usage: 9.5+ MB\n"
     ]
    }
   ],
   "source": [
    "data.info()"
   ]
  },
  {
   "cell_type": "markdown",
   "id": "20824131",
   "metadata": {},
   "source": [
    "**Observations from data.info():**\n",
    "1. The dataset contains 16136 rows and 77 columns.\n",
    "2. There are 3 columns with object data types and 74 columns with float64 data types.\n",
    "3. Some columns have missing values, as indicated by the non-null counts being less than 16136.\n",
    "4. The memory usage of the dataset is approximately 9.5 MB.\n",
    "5. The column names are descriptive, but some may need renaming for better readability.\n",
    "6. The dataset includes a mix of meteorological and atmospheric measurements."
   ]
  },
  {
   "cell_type": "code",
   "execution_count": 18,
   "id": "dfac82b9",
   "metadata": {},
   "outputs": [
    {
     "data": {
      "application/vnd.microsoft.datawrangler.viewer.v0+json": {
       "columns": [
        {
         "name": "index",
         "rawType": "object",
         "type": "string"
        },
        {
         "name": "0",
         "rawType": "float64",
         "type": "float"
        }
       ],
       "ref": "9672e775-5051-43ac-90ce-f0125a9af0b8",
       "rows": [
        [
         "L3_NO2_NO2_column_number_density",
         "8.223847297967279"
        ],
        [
         "L3_NO2_NO2_slant_column_number_density",
         "8.223847297967279"
        ],
        [
         "L3_NO2_absorbing_aerosol_index",
         "8.223847297967279"
        ],
        [
         "L3_NO2_cloud_fraction",
         "8.223847297967279"
        ],
        [
         "L3_NO2_sensor_altitude",
         "8.223847297967279"
        ],
        [
         "L3_NO2_sensor_azimuth_angle",
         "8.223847297967279"
        ],
        [
         "L3_NO2_sensor_zenith_angle",
         "8.223847297967279"
        ],
        [
         "L3_NO2_solar_azimuth_angle",
         "8.223847297967279"
        ],
        [
         "L3_NO2_solar_zenith_angle",
         "8.223847297967279"
        ],
        [
         "L3_NO2_stratospheric_NO2_column_number_density",
         "8.223847297967279"
        ],
        [
         "L3_NO2_tropopause_pressure",
         "8.223847297967279"
        ],
        [
         "L3_NO2_tropospheric_NO2_column_number_density",
         "30.819286068418446"
        ],
        [
         "L3_O3_O3_column_number_density",
         "1.3262270699058007"
        ],
        [
         "L3_O3_O3_effective_temperature",
         "1.3262270699058007"
        ],
        [
         "L3_O3_cloud_fraction",
         "1.3262270699058007"
        ],
        [
         "L3_O3_sensor_azimuth_angle",
         "1.3262270699058007"
        ],
        [
         "L3_O3_sensor_zenith_angle",
         "1.3262270699058007"
        ],
        [
         "L3_O3_solar_azimuth_angle",
         "1.3262270699058007"
        ],
        [
         "L3_O3_solar_zenith_angle",
         "1.3262270699058007"
        ],
        [
         "L3_CO_CO_column_number_density",
         "18.598165592464056"
        ],
        [
         "L3_CO_H2O_column_number_density",
         "18.598165592464056"
        ],
        [
         "L3_CO_cloud_height",
         "18.598165592464056"
        ],
        [
         "L3_CO_sensor_altitude",
         "18.598165592464056"
        ],
        [
         "L3_CO_sensor_azimuth_angle",
         "18.598165592464056"
        ],
        [
         "L3_CO_sensor_zenith_angle",
         "18.598165592464056"
        ],
        [
         "L3_CO_solar_azimuth_angle",
         "18.598165592464056"
        ],
        [
         "L3_CO_solar_zenith_angle",
         "18.598165592464056"
        ],
        [
         "L3_HCHO_HCHO_slant_column_number_density",
         "26.152702032721862"
        ],
        [
         "L3_HCHO_cloud_fraction",
         "26.152702032721862"
        ],
        [
         "L3_HCHO_sensor_azimuth_angle",
         "26.152702032721862"
        ],
        [
         "L3_HCHO_sensor_zenith_angle",
         "26.152702032721862"
        ],
        [
         "L3_HCHO_solar_azimuth_angle",
         "26.152702032721862"
        ],
        [
         "L3_HCHO_solar_zenith_angle",
         "26.152702032721862"
        ],
        [
         "L3_HCHO_tropospheric_HCHO_column_number_density",
         "26.152702032721862"
        ],
        [
         "L3_HCHO_tropospheric_HCHO_column_number_density_amf",
         "26.152702032721862"
        ],
        [
         "L3_CLOUD_cloud_base_height",
         "5.887456618740703"
        ],
        [
         "L3_CLOUD_cloud_base_pressure",
         "5.887456618740703"
        ],
        [
         "L3_CLOUD_cloud_fraction",
         "1.6236985622211204"
        ],
        [
         "L3_CLOUD_cloud_optical_depth",
         "5.887456618740703"
        ],
        [
         "L3_CLOUD_cloud_top_height",
         "5.887456618740703"
        ],
        [
         "L3_CLOUD_cloud_top_pressure",
         "5.887456618740703"
        ],
        [
         "L3_CLOUD_sensor_azimuth_angle",
         "1.6236985622211204"
        ],
        [
         "L3_CLOUD_sensor_zenith_angle",
         "1.6236985622211204"
        ],
        [
         "L3_CLOUD_solar_azimuth_angle",
         "1.6236985622211204"
        ],
        [
         "L3_CLOUD_solar_zenith_angle",
         "1.6236985622211204"
        ],
        [
         "L3_CLOUD_surface_albedo",
         "5.887456618740703"
        ],
        [
         "L3_AER_AI_absorbing_aerosol_index",
         "0.5763510163609321"
        ],
        [
         "L3_AER_AI_sensor_altitude",
         "0.5763510163609321"
        ],
        [
         "L3_AER_AI_sensor_azimuth_angle",
         "0.5763510163609321"
        ],
        [
         "L3_AER_AI_sensor_zenith_angle",
         "0.5763510163609321"
        ]
       ],
       "shape": {
        "columns": 1,
        "rows": 68
       }
      },
      "text/plain": [
       "L3_NO2_NO2_column_number_density           8.223847\n",
       "L3_NO2_NO2_slant_column_number_density     8.223847\n",
       "L3_NO2_absorbing_aerosol_index             8.223847\n",
       "L3_NO2_cloud_fraction                      8.223847\n",
       "L3_NO2_sensor_altitude                     8.223847\n",
       "                                            ...    \n",
       "L3_CH4_aerosol_optical_depth              80.695340\n",
       "L3_CH4_sensor_azimuth_angle               80.695340\n",
       "L3_CH4_sensor_zenith_angle                80.695340\n",
       "L3_CH4_solar_azimuth_angle                80.695340\n",
       "L3_CH4_solar_zenith_angle                 80.695340\n",
       "Length: 68, dtype: float64"
      ]
     },
     "execution_count": 18,
     "metadata": {},
     "output_type": "execute_result"
    }
   ],
   "source": [
    "# percent of missing values in each column\n",
    "missing_columns = data.columns[data.isnull().any()]\n",
    "data[missing_columns].isnull().mean()*100"
   ]
  },
  {
   "cell_type": "markdown",
   "id": "8982f743",
   "metadata": {},
   "source": [
    "**Observations of Missing Values:**\n",
    "\n",
    "1. The dataset contains 77 columns, out of which 65 columns have missing values.\n",
    "2. The percentage of missing values varies across columns, with some columns having a significant proportion of missing data.\n",
    "3. Columns related to CH4 (e.g., `L3_CH4_CH4_column_volume_mixing_ratio_dry_air`) have the highest percentage of missing values, with only 3115 non-null entries out of 16136 rows (~80.7% missing).\n",
    "4. Columns related to NO2, O3, CO, HCHO, and SO2 have varying levels of missing data, with some columns missing up to ~30% of their values.\n",
    "5. The presence of missing values may require imputation, removal, or other preprocessing techniques depending on their significance to the analysis or model.\n",
    "6. The missing data might be due to limitations in data collection from sensors or satellites, and this should be considered when interpreting the results."
   ]
  },
  {
   "cell_type": "code",
   "execution_count": null,
   "id": "5d50ca50",
   "metadata": {},
   "outputs": [
    {
     "data": {
      "text/plain": [
       "68"
      ]
     },
     "execution_count": 10,
     "metadata": {},
     "output_type": "execute_result"
    }
   ],
   "source": []
  },
  {
   "cell_type": "code",
   "execution_count": null,
   "id": "eb7b6f24",
   "metadata": {},
   "outputs": [],
   "source": []
  }
 ],
 "metadata": {
  "kernelspec": {
   "display_name": "base",
   "language": "python",
   "name": "python3"
  },
  "language_info": {
   "codemirror_mode": {
    "name": "ipython",
    "version": 3
   },
   "file_extension": ".py",
   "mimetype": "text/x-python",
   "name": "python",
   "nbconvert_exporter": "python",
   "pygments_lexer": "ipython3",
   "version": "3.12.4"
  }
 },
 "nbformat": 4,
 "nbformat_minor": 5
}
